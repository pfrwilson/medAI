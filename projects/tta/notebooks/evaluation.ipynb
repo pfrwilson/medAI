{
 "cells": [
  {
   "cell_type": "code",
   "execution_count": 1,
   "metadata": {},
   "outputs": [
    {
     "name": "stdout",
     "output_type": "stream",
     "text": [
      "/fs01/home/abbasgln/codes/medAI/projects/tta\n"
     ]
    },
    {
     "name": "stderr",
     "output_type": "stream",
     "text": [
      "/h/abbasgln/.conda/envs/mttt/lib/python3.10/site-packages/IPython/core/magics/osm.py:417: UserWarning: using dhist requires you to install the `pickleshare` library.\n",
      "  self.shell.db['dhist'] = compress_dhist(dhist)[-100:]\n"
     ]
    }
   ],
   "source": [
    "%cd .."
   ]
  },
  {
   "cell_type": "code",
   "execution_count": 2,
   "metadata": {},
   "outputs": [],
   "source": [
    "import os\n",
    "from dotenv import load_dotenv\n",
    "# Loading environment variables\n",
    "load_dotenv()\n",
    "\n",
    "import torch\n",
    "import torch.nn as nn\n",
    "import typing as tp\n",
    "import numpy as np\n",
    "import torch.optim as optim\n",
    "from torch.utils.data import DataLoader\n",
    "from dataclasses import dataclass, field\n",
    "import logging\n",
    "import wandb\n",
    "\n",
    "import medAI\n",
    "from medAI.utils.setup import BasicExperiment, BasicExperimentConfig\n",
    "\n",
    "from utils.metrics import MetricCalculator\n",
    "\n",
    "from timm.optim.optim_factory import create_optimizer\n",
    "\n",
    "from einops import rearrange, repeat\n",
    "from tqdm.auto import tqdm\n",
    "import matplotlib.pyplot as plt\n",
    "import timm\n",
    "\n",
    "from copy import copy\n",
    "import pandas as pd\n"
   ]
  },
  {
   "cell_type": "markdown",
   "metadata": {},
   "source": [
    "## Model"
   ]
  },
  {
   "cell_type": "code",
   "execution_count": 17,
   "metadata": {},
   "outputs": [
    {
     "data": {
      "text/plain": [
       "ResNet(\n",
       "  (conv1): Sequential(\n",
       "    (0): Conv2d(1, 24, kernel_size=(3, 3), stride=(2, 2), padding=(1, 1), bias=False)\n",
       "    (1): GroupNorm(8, 24, eps=1e-05, affine=True)\n",
       "    (2): ReLU(inplace=True)\n",
       "    (3): Conv2d(24, 32, kernel_size=(3, 3), stride=(1, 1), padding=(1, 1), bias=False)\n",
       "    (4): GroupNorm(8, 32, eps=1e-05, affine=True)\n",
       "    (5): ReLU(inplace=True)\n",
       "    (6): Conv2d(32, 64, kernel_size=(3, 3), stride=(1, 1), padding=(1, 1), bias=False)\n",
       "  )\n",
       "  (bn1): GroupNorm(8, 64, eps=1e-05, affine=True)\n",
       "  (act1): ReLU(inplace=True)\n",
       "  (maxpool): MaxPool2d(kernel_size=3, stride=2, padding=1, dilation=1, ceil_mode=False)\n",
       "  (layer1): Sequential(\n",
       "    (0): BasicBlock(\n",
       "      (conv1): Conv2d(64, 64, kernel_size=(3, 3), stride=(1, 1), padding=(1, 1), bias=False)\n",
       "      (bn1): GroupNorm(8, 64, eps=1e-05, affine=True)\n",
       "      (drop_block): Identity()\n",
       "      (act1): ReLU(inplace=True)\n",
       "      (aa): Identity()\n",
       "      (conv2): Conv2d(64, 64, kernel_size=(3, 3), stride=(1, 1), padding=(1, 1), bias=False)\n",
       "      (bn2): GroupNorm(8, 64, eps=1e-05, affine=True)\n",
       "      (act2): ReLU(inplace=True)\n",
       "    )\n",
       "  )\n",
       "  (layer2): Sequential(\n",
       "    (0): BasicBlock(\n",
       "      (conv1): Conv2d(64, 128, kernel_size=(3, 3), stride=(2, 2), padding=(1, 1), bias=False)\n",
       "      (bn1): GroupNorm(8, 128, eps=1e-05, affine=True)\n",
       "      (drop_block): Identity()\n",
       "      (act1): ReLU(inplace=True)\n",
       "      (aa): Identity()\n",
       "      (conv2): Conv2d(128, 128, kernel_size=(3, 3), stride=(1, 1), padding=(1, 1), bias=False)\n",
       "      (bn2): GroupNorm(8, 128, eps=1e-05, affine=True)\n",
       "      (act2): ReLU(inplace=True)\n",
       "      (downsample): Sequential(\n",
       "        (0): AvgPool2d(kernel_size=2, stride=2, padding=0)\n",
       "        (1): Conv2d(64, 128, kernel_size=(1, 1), stride=(1, 1), bias=False)\n",
       "        (2): GroupNorm(8, 128, eps=1e-05, affine=True)\n",
       "      )\n",
       "    )\n",
       "  )\n",
       "  (layer3): Sequential(\n",
       "    (0): BasicBlock(\n",
       "      (conv1): Conv2d(128, 256, kernel_size=(3, 3), stride=(2, 2), padding=(1, 1), bias=False)\n",
       "      (bn1): GroupNorm(8, 256, eps=1e-05, affine=True)\n",
       "      (drop_block): Identity()\n",
       "      (act1): ReLU(inplace=True)\n",
       "      (aa): Identity()\n",
       "      (conv2): Conv2d(256, 256, kernel_size=(3, 3), stride=(1, 1), padding=(1, 1), bias=False)\n",
       "      (bn2): GroupNorm(8, 256, eps=1e-05, affine=True)\n",
       "      (act2): ReLU(inplace=True)\n",
       "      (downsample): Sequential(\n",
       "        (0): AvgPool2d(kernel_size=2, stride=2, padding=0)\n",
       "        (1): Conv2d(128, 256, kernel_size=(1, 1), stride=(1, 1), bias=False)\n",
       "        (2): GroupNorm(8, 256, eps=1e-05, affine=True)\n",
       "      )\n",
       "    )\n",
       "  )\n",
       "  (layer4): Sequential(\n",
       "    (0): BasicBlock(\n",
       "      (conv1): Conv2d(256, 512, kernel_size=(3, 3), stride=(2, 2), padding=(1, 1), bias=False)\n",
       "      (bn1): GroupNorm(8, 512, eps=1e-05, affine=True)\n",
       "      (drop_block): Identity()\n",
       "      (act1): ReLU(inplace=True)\n",
       "      (aa): Identity()\n",
       "      (conv2): Conv2d(512, 512, kernel_size=(3, 3), stride=(1, 1), padding=(1, 1), bias=False)\n",
       "      (bn2): GroupNorm(8, 512, eps=1e-05, affine=True)\n",
       "      (act2): ReLU(inplace=True)\n",
       "      (downsample): Sequential(\n",
       "        (0): AvgPool2d(kernel_size=2, stride=2, padding=0)\n",
       "        (1): Conv2d(256, 512, kernel_size=(1, 1), stride=(1, 1), bias=False)\n",
       "        (2): GroupNorm(8, 512, eps=1e-05, affine=True)\n",
       "      )\n",
       "    )\n",
       "  )\n",
       "  (global_pool): SelectAdaptivePool2d(pool_type=avg, flatten=Flatten(start_dim=1, end_dim=-1))\n",
       "  (fc): Linear(in_features=512, out_features=2, bias=True)\n",
       ")"
      ]
     },
     "execution_count": 17,
     "metadata": {},
     "output_type": "execute_result"
    }
   ],
   "source": [
    "from baseline_experiment import FeatureExtractorConfig\n",
    "\n",
    "fe_config = FeatureExtractorConfig()\n",
    "\n",
    "# Create the model\n",
    "model: nn.Module = timm.create_model(\n",
    "    fe_config.model_name,\n",
    "    num_classes=fe_config.num_classes,\n",
    "    in_chans=1,\n",
    "    features_only=fe_config.features_only,\n",
    "    norm_layer=lambda channels: nn.GroupNorm(\n",
    "                    num_groups=fe_config.num_groups,\n",
    "                    num_channels=channels\n",
    "                    ))\n",
    "\n",
    "CHECkPOINT_PATH = os.path.join(os.getenv(\"DATA_ROOT\"), 'checkpoint_store', '2023-12-14_baseline_gn_resnet10.ckpt')\n",
    "\n",
    "model.load_state_dict(torch.load(CHECkPOINT_PATH)['model'])\n",
    "model.eval()\n",
    "model.cuda()\n",
    "\n",
    "# a = True"
   ]
  },
  {
   "cell_type": "markdown",
   "metadata": {},
   "source": [
    "## Data"
   ]
  },
  {
   "cell_type": "code",
   "execution_count": null,
   "metadata": {},
   "outputs": [
    {
     "name": "stderr",
     "output_type": "stream",
     "text": [
      "Computing positions: 100%|██████████| 676/676 [00:04<00:00, 153.57it/s]\n",
      "Computing positions: 100%|██████████| 1058/1058 [00:07<00:00, 143.49it/s]\n",
      "Computing positions: 100%|██████████| 1302/1302 [00:08<00:00, 148.50it/s]\n"
     ]
    }
   ],
   "source": [
    "from baseline_experiment import BaselineConfig\n",
    "from torchvision.transforms import v2 as T\n",
    "from torchvision.tv_tensors import Image as TVImage\n",
    "\n",
    "config = BaselineConfig(fold=1)\n",
    "\n",
    "class Transform:\n",
    "    def __init__(selfT, augment=False):\n",
    "        selfT.augment = augment\n",
    "        selfT.size = (256, 256)\n",
    "    \n",
    "    def __call__(selfT, item):\n",
    "        patch = item.pop(\"patch\")\n",
    "        patch = copy(patch)\n",
    "        patch = (patch - patch.min()) / (patch.max() - patch.min()) \\\n",
    "            if config.instance_norm else patch\n",
    "        patch = TVImage(patch)\n",
    "        # patch = T.ToImage()(patch)\n",
    "        # patch = T.ToTensor()(patch)\n",
    "        patch = T.Resize(selfT.size, antialias=True)(patch).float()\n",
    "        \n",
    "        \n",
    "        if selfT.augment:\n",
    "            # Augment support patches\n",
    "            transform = T.Compose([\n",
    "                T.RandomAffine(degrees=0, translate=(0.1, 0.1)),\n",
    "                T.RandomHorizontalFlip(p=0.5),\n",
    "                T.RandomVerticalFlip(p=0.5),\n",
    "            ])  \n",
    "            patch = transform(patch)\n",
    "        \n",
    "        label = torch.tensor(item[\"grade\"] != \"Benign\").long()\n",
    "        return patch, label, item\n",
    "\n",
    "\n",
    "from datasets.datasets import ExactNCT2013RFImagePatches, CohortSelectionOptions, PatchOptions\n",
    "\n",
    "train_ds = ExactNCT2013RFImagePatches(\n",
    "    split=\"train\",\n",
    "    transform=Transform(augment=False),\n",
    "    cohort_selection_options=CohortSelectionOptions(\n",
    "        benign_to_cancer_ratio=config.benign_to_cancer_ratio_train,\n",
    "        min_involvement=config.min_invovlement,\n",
    "        remove_benign_from_positive_patients=True,\n",
    "        fold=config.fold,\n",
    "    ),\n",
    "    patch_options=PatchOptions(\n",
    "        patch_size_mm=config.patch_size_mm,\n",
    "        needle_mask_threshold=config.needle_mask_threshold,\n",
    "        prostate_mask_threshold=config.prostate_mask_threshold,\n",
    "    ),\n",
    "    debug=config.debug,\n",
    ")\n",
    "\n",
    "val_ds = ExactNCT2013RFImagePatches(\n",
    "    split=\"val\",\n",
    "    transform=Transform(),\n",
    "    cohort_selection_options=CohortSelectionOptions(\n",
    "        benign_to_cancer_ratio=config.benign_to_cancer_ratio_test,\n",
    "        min_involvement=None,\n",
    "        fold=config.fold\n",
    "    ),\n",
    "    patch_options=PatchOptions(\n",
    "        patch_size_mm=config.patch_size_mm,\n",
    "        needle_mask_threshold=config.needle_mask_threshold,\n",
    "        prostate_mask_threshold=config.prostate_mask_threshold,\n",
    "    ),\n",
    "    debug=config.debug,\n",
    ")\n",
    "        \n",
    "test_ds = ExactNCT2013RFImagePatches(\n",
    "    split=\"test\",\n",
    "    transform=Transform(),\n",
    "    cohort_selection_options=CohortSelectionOptions(\n",
    "        benign_to_cancer_ratio=config.benign_to_cancer_ratio_test,\n",
    "        min_involvement=None,\n",
    "        fold=config.fold\n",
    "    ),\n",
    "    patch_options=PatchOptions(\n",
    "        patch_size_mm=config.patch_size_mm,\n",
    "        needle_mask_threshold=config.needle_mask_threshold,\n",
    "        prostate_mask_threshold=config.prostate_mask_threshold,\n",
    "    ),\n",
    "    debug=config.debug,\n",
    ")\n",
    "\n",
    "\n",
    "train_loader = DataLoader(\n",
    "    train_ds, batch_size=config.batch_size, shuffle=True, num_workers=4\n",
    ")\n",
    "val_loader = DataLoader(\n",
    "    val_ds, batch_size=config.batch_size, shuffle=False, num_workers=4\n",
    ")\n",
    "test_loader = DataLoader(\n",
    "    test_ds, batch_size=config.batch_size, shuffle=False, num_workers=4\n",
    ")"
   ]
  },
  {
   "cell_type": "code",
   "execution_count": null,
   "metadata": {},
   "outputs": [],
   "source": [
    "df_train_cores = train_ds.dataset.dataset.__dict__['core_info']\n",
    "df_val_cores = val_ds.dataset.dataset.__dict__['core_info']\n",
    "df_test_cores = test_ds.dataset.dataset.__dict__['core_info']"
   ]
  },
  {
   "cell_type": "code",
   "execution_count": null,
   "metadata": {},
   "outputs": [],
   "source": [
    "np.unique(df_test_cores['patient_id'].values)"
   ]
  },
  {
   "cell_type": "code",
   "execution_count": 3,
   "metadata": {},
   "outputs": [],
   "source": [
    "PATIENT = pd.read_csv(os.path.join(os.getenv(\"DATA_ROOT\"), \"cores_dataset\", \"patient.csv\"))\n",
    "CORE = pd.read_csv(os.path.join(os.getenv(\"DATA_ROOT\"), \"cores_dataset\", \"core.csv\"))\n",
    "FOLDS = pd.read_csv(os.path.join(os.getenv(\"DATA_ROOT\"), \"cores_dataset\", \"5fold_splits.csv\"))"
   ]
  },
  {
   "cell_type": "code",
   "execution_count": 4,
   "metadata": {},
   "outputs": [
    {
     "data": {
      "text/plain": [
       "array([  6,   8,  13,  15,  16,  24,  27,  35,  41,  43,  46,  49,  65,\n",
       "        71,  72,  79,  95,  99, 104, 110, 112, 116, 118, 121, 125, 127,\n",
       "       129, 142, 143, 148, 154, 155, 157, 160, 164, 183, 190, 191, 202,\n",
       "       206, 209, 213, 214, 218, 220, 221, 224, 227, 229, 232, 236, 239,\n",
       "       247, 251, 254, 255, 259, 261, 265, 280, 284, 285, 292, 294, 300,\n",
       "       302, 313, 315, 329, 360, 365, 368, 375, 378, 381, 382, 383, 391,\n",
       "       400, 403, 409, 413, 415, 430, 432, 437, 442, 447, 448, 453, 454,\n",
       "       456, 469, 477, 481, 483, 487, 507, 514, 517, 518, 519, 525, 528,\n",
       "       541, 552, 558, 561, 562, 565, 576, 582, 584, 586, 592, 597, 598,\n",
       "       600, 601, 603, 604, 613, 614, 616, 617, 622, 636, 640, 641, 649,\n",
       "       651, 652, 665, 668, 669, 672, 677, 678, 690])"
      ]
     },
     "execution_count": 4,
     "metadata": {},
     "output_type": "execute_result"
    }
   ],
   "source": [
    "patient_id_fold1 = FOLDS[FOLDS['fold_1'] == \"test\"].id.values\n",
    "patient_id_fold2 = FOLDS[FOLDS['fold_2'] == \"test\"].id.values\n",
    "patient_id_fold1"
   ]
  },
  {
   "cell_type": "code",
   "execution_count": 5,
   "metadata": {},
   "outputs": [],
   "source": [
    "centers = PATIENT['center'].unique()\n",
    "fold1_test_core_df = CORE[CORE['patient_id'].isin(patient_id_fold1)]\n",
    "fold1_test_core_df\n",
    "['CRCEO' in tag for tag in fold1_test_core_df['tag']]\n",
    "\n",
    "split = \"test\"\n",
    "num_cores_per_center = {}\n",
    "for center in centers:\n",
    "    for fold in range(5):\n",
    "        patient_id = FOLDS[FOLDS[f'fold_{fold}'] == split].id.values\n",
    "        fold_split_core_df = CORE[CORE['patient_id'].isin(patient_id)]\n",
    "        \n",
    "        num_cores = np.sum([center in tag for tag in fold_split_core_df['tag']])\n",
    "        try:\n",
    "            num_cores_per_center[fold][center] = num_cores\n",
    "        except:\n",
    "            num_cores_per_center[fold] = {center: num_cores}  "
   ]
  },
  {
   "cell_type": "code",
   "execution_count": 6,
   "metadata": {},
   "outputs": [
    {
     "data": {
      "text/plain": [
       "{0: {'CRCEO': 303, 'JH': 125, 'PCC': 324, 'PMCC': 99, 'UVA': 485},\n",
       " 1: {'CRCEO': 291, 'JH': 119, 'PCC': 321, 'PMCC': 116, 'UVA': 455},\n",
       " 2: {'CRCEO': 283, 'JH': 115, 'PCC': 314, 'PMCC': 125, 'UVA': 480},\n",
       " 3: {'CRCEO': 306, 'JH': 133, 'PCC': 302, 'PMCC': 115, 'UVA': 472},\n",
       " 4: {'CRCEO': 286, 'JH': 124, 'PCC': 338, 'PMCC': 133, 'UVA': 443}}"
      ]
     },
     "execution_count": 6,
     "metadata": {},
     "output_type": "execute_result"
    }
   ],
   "source": [
    "num_cores_per_center"
   ]
  },
  {
   "cell_type": "code",
   "execution_count": null,
   "metadata": {},
   "outputs": [],
   "source": [
    "fold1_test_core_df[~np.isnan(fold1_test_core_df['primary_grade'])]\n",
    "len(fold1_test_core_df[fold1_test_core_df['grade'] == 'GS7'])"
   ]
  },
  {
   "cell_type": "code",
   "execution_count": 63,
   "metadata": {},
   "outputs": [],
   "source": [
    "grades = CORE['grade'].unique()\n",
    "\n",
    "split = \"test\"\n",
    "grade_dist_per_fold = {}\n",
    "for grade in grades:\n",
    "    for fold in range(5):\n",
    "        patient_id = FOLDS[FOLDS[f'fold_{fold}'] == split].id.values\n",
    "        fold_split_core_df = CORE[CORE['patient_id'].isin(patient_id)]\n",
    "        \n",
    "        num_cores_per_grade = len(fold_split_core_df[fold_split_core_df['grade'] == grade])\n",
    "        \n",
    "        try:\n",
    "            grade_dist_per_fold[fold][grade] = num_cores_per_grade\n",
    "        except:\n",
    "            grade_dist_per_fold[fold] = {grade: num_cores_per_grade}  "
   ]
  },
  {
   "cell_type": "code",
   "execution_count": 64,
   "metadata": {},
   "outputs": [
    {
     "data": {
      "text/plain": [
       "{0: {'Benign': 1143, 'GS7': 167, 'GS8': 13, 'GS9': 2, 'GS10': 11},\n",
       " 1: {'Benign': 1153, 'GS7': 108, 'GS8': 21, 'GS9': 20, 'GS10': 0},\n",
       " 2: {'Benign': 1152, 'GS7': 116, 'GS8': 40, 'GS9': 9, 'GS10': 0},\n",
       " 3: {'Benign': 1143, 'GS7': 149, 'GS8': 28, 'GS9': 8, 'GS10': 0},\n",
       " 4: {'Benign': 1136, 'GS7': 135, 'GS8': 32, 'GS9': 21, 'GS10': 0}}"
      ]
     },
     "execution_count": 64,
     "metadata": {},
     "output_type": "execute_result"
    }
   ],
   "source": [
    "grade_dist_per_fold"
   ]
  },
  {
   "cell_type": "code",
   "execution_count": 65,
   "metadata": {},
   "outputs": [
    {
     "data": {
      "text/plain": [
       "array([ nan,  50.,  40., 100.,   7.,   5.,  30.,  45.,  75.,  65.,   2.,\n",
       "        10.,  25.,  70.,  80.,  90.,  60.,  85.,  15.,  20.,  35.,  95.,\n",
       "        55.,  99.,   3.])"
      ]
     },
     "execution_count": 65,
     "metadata": {},
     "output_type": "execute_result"
    }
   ],
   "source": [
    "fold1_test_core_df['pct_cancer'].unique()"
   ]
  },
  {
   "cell_type": "code",
   "execution_count": 83,
   "metadata": {},
   "outputs": [],
   "source": [
    "split = \"test\"\n",
    "inv_dist_per_fold = {}\n",
    "for fold in range(5):\n",
    "    patient_id = FOLDS[FOLDS[f'fold_{fold}'] == split].id.values\n",
    "    fold_split_core_df = CORE[CORE['patient_id'].isin(patient_id)]\n",
    "    \n",
    "    # inv_dist = np.nan_to_num(fold_split_core_df['pct_cancer'].values)\n",
    "    inv_dist = fold_split_core_df['pct_cancer'].values\n",
    "    inv_dist_per_fold[fold] = inv_dist  "
   ]
  },
  {
   "cell_type": "code",
   "execution_count": 87,
   "metadata": {},
   "outputs": [
    {
     "data": {
      "image/png": "[encoded data removed]",
      "text/plain": [
       "<Figure size 640x480 with 1 Axes>"
      ]
     },
     "metadata": {},
     "output_type": "display_data"
    },
    {
     "data": {
      "image/png": "[encoded data removed]",
      "text/plain": [
       "<Figure size 640x480 with 1 Axes>"
      ]
     },
     "metadata": {},
     "output_type": "display_data"
    },
    {
     "data": {
      "image/png": "[encoded data removed]",
      "text/plain": [
       "<Figure size 640x480 with 1 Axes>"
      ]
     },
     "metadata": {},
     "output_type": "display_data"
    },
    {
     "data": {
      "image/png": "[encoded data removed]",
      "text/plain": [
       "<Figure size 640x480 with 1 Axes>"
      ]
     },
     "metadata": {},
     "output_type": "display_data"
    },
    {
     "data": {
      "image/png": "[encoded data removed]",
      "text/plain": [
       "<Figure size 640x480 with 1 Axes>"
      ]
     },
     "metadata": {},
     "output_type": "display_data"
    }
   ],
   "source": [
    "for fold in range(5):\n",
    "    plt.figure()\n",
    "    plt.hist(inv_dist_per_fold[fold])"
   ]
  }
 ],
 "metadata": {
  "kernelspec": {
   "display_name": "mttt",
   "language": "python",
   "name": "python3"
  },
  "language_info": {
   "codemirror_mode": {
    "name": "ipython",
    "version": 3
   },
   "file_extension": ".py",
   "mimetype": "text/x-python",
   "name": "python",
   "nbconvert_exporter": "python",
   "pygments_lexer": "ipython3",
   "version": "3.10.4"
  }
 },
 "nbformat": 4,
 "nbformat_minor": 2
}
