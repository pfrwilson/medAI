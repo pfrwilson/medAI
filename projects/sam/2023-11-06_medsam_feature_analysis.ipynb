{
 "cells": [
  {
   "cell_type": "code",
   "execution_count": 25,
   "metadata": {},
   "outputs": [],
   "source": [
    "from medAI.datasets import ExactNCT2013BModeImages, CohortSelectionOptions\n",
    "import torch \n",
    "from torchvision import transforms as T\n",
    "T.InterpolationMode.NEAREST\n",
    "\n",
    "def transform(item): \n",
    "    bmode = item['bmode']\n",
    "    needle_mask = item['needle_mask']\n",
    "    grade = item['grade']\n",
    "\n",
    "    bmode = torch.tensor(bmode).float()[None, ...]\n",
    "    bmode = bmode.repeat(3, 1, 1)\n",
    "    bmode = (bmode - bmode.min()) / (bmode.max() - bmode.min())\n",
    "    bmode = T.Resize((1024, 1024), antialias=True)(bmode)\n",
    "    bmode = bmode.flip(1)\n",
    "\n",
    "    needle_mask = torch.tensor(needle_mask != 0).float()[None, ...]\n",
    "    needle_mask = T.Resize((1024, 1024), interpolation=T.InterpolationMode.NEAREST, antialias=False)(needle_mask)\n",
    "    needle_mask = needle_mask.flip(1)\n",
    "\n",
    "    grade = torch.tensor(grade != 'Benign').long()\n",
    "\n",
    "    return bmode, needle_mask, grade\n",
    "\n",
    "cohort_selection_options = CohortSelectionOptions(\n",
    "    min_involvement=40, benign_to_cancer_ratio=1\n",
    ")\n",
    "train_ds = ExactNCT2013BModeImages(split='train', transform=transform, cohort_selection_options=cohort_selection_options)\n",
    "test_ds = ExactNCT2013BModeImages(split='test', transform=transform, cohort_selection_options=cohort_selection_options)"
   ]
  },
  {
   "cell_type": "code",
   "execution_count": 26,
   "metadata": {},
   "outputs": [
    {
     "data": {
      "text/plain": [
       "Sam(\n",
       "  (image_encoder): ImageEncoderViT(\n",
       "    (patch_embed): PatchEmbed(\n",
       "      (proj): Conv2d(3, 768, kernel_size=(16, 16), stride=(16, 16))\n",
       "    )\n",
       "    (blocks): ModuleList(\n",
       "      (0-11): 12 x Block(\n",
       "        (norm1): LayerNorm((768,), eps=1e-06, elementwise_affine=True)\n",
       "        (attn): Attention(\n",
       "          (qkv): Linear(in_features=768, out_features=2304, bias=True)\n",
       "          (proj): Linear(in_features=768, out_features=768, bias=True)\n",
       "        )\n",
       "        (norm2): LayerNorm((768,), eps=1e-06, elementwise_affine=True)\n",
       "        (mlp): MLPBlock(\n",
       "          (lin1): Linear(in_features=768, out_features=3072, bias=True)\n",
       "          (lin2): Linear(in_features=3072, out_features=768, bias=True)\n",
       "          (act): GELU(approximate='none')\n",
       "        )\n",
       "      )\n",
       "    )\n",
       "    (neck): Sequential(\n",
       "      (0): Conv2d(768, 256, kernel_size=(1, 1), stride=(1, 1), bias=False)\n",
       "      (1): LayerNorm2d()\n",
       "      (2): Conv2d(256, 256, kernel_size=(3, 3), stride=(1, 1), padding=(1, 1), bias=False)\n",
       "      (3): LayerNorm2d()\n",
       "    )\n",
       "  )\n",
       "  (prompt_encoder): PromptEncoder(\n",
       "    (pe_layer): PositionEmbeddingRandom()\n",
       "    (point_embeddings): ModuleList(\n",
       "      (0-3): 4 x Embedding(1, 256)\n",
       "    )\n",
       "    (not_a_point_embed): Embedding(1, 256)\n",
       "    (mask_downscaling): Sequential(\n",
       "      (0): Conv2d(1, 4, kernel_size=(2, 2), stride=(2, 2))\n",
       "      (1): LayerNorm2d()\n",
       "      (2): GELU(approximate='none')\n",
       "      (3): Conv2d(4, 16, kernel_size=(2, 2), stride=(2, 2))\n",
       "      (4): LayerNorm2d()\n",
       "      (5): GELU(approximate='none')\n",
       "      (6): Conv2d(16, 256, kernel_size=(1, 1), stride=(1, 1))\n",
       "    )\n",
       "    (no_mask_embed): Embedding(1, 256)\n",
       "  )\n",
       "  (mask_decoder): MaskDecoder(\n",
       "    (transformer): TwoWayTransformer(\n",
       "      (layers): ModuleList(\n",
       "        (0-1): 2 x TwoWayAttentionBlock(\n",
       "          (self_attn): Attention(\n",
       "            (q_proj): Linear(in_features=256, out_features=256, bias=True)\n",
       "            (k_proj): Linear(in_features=256, out_features=256, bias=True)\n",
       "            (v_proj): Linear(in_features=256, out_features=256, bias=True)\n",
       "            (out_proj): Linear(in_features=256, out_features=256, bias=True)\n",
       "          )\n",
       "          (norm1): LayerNorm((256,), eps=1e-05, elementwise_affine=True)\n",
       "          (cross_attn_token_to_image): Attention(\n",
       "            (q_proj): Linear(in_features=256, out_features=128, bias=True)\n",
       "            (k_proj): Linear(in_features=256, out_features=128, bias=True)\n",
       "            (v_proj): Linear(in_features=256, out_features=128, bias=True)\n",
       "            (out_proj): Linear(in_features=128, out_features=256, bias=True)\n",
       "          )\n",
       "          (norm2): LayerNorm((256,), eps=1e-05, elementwise_affine=True)\n",
       "          (mlp): MLPBlock(\n",
       "            (lin1): Linear(in_features=256, out_features=2048, bias=True)\n",
       "            (lin2): Linear(in_features=2048, out_features=256, bias=True)\n",
       "            (act): ReLU()\n",
       "          )\n",
       "          (norm3): LayerNorm((256,), eps=1e-05, elementwise_affine=True)\n",
       "          (norm4): LayerNorm((256,), eps=1e-05, elementwise_affine=True)\n",
       "          (cross_attn_image_to_token): Attention(\n",
       "            (q_proj): Linear(in_features=256, out_features=128, bias=True)\n",
       "            (k_proj): Linear(in_features=256, out_features=128, bias=True)\n",
       "            (v_proj): Linear(in_features=256, out_features=128, bias=True)\n",
       "            (out_proj): Linear(in_features=128, out_features=256, bias=True)\n",
       "          )\n",
       "        )\n",
       "      )\n",
       "      (final_attn_token_to_image): Attention(\n",
       "        (q_proj): Linear(in_features=256, out_features=128, bias=True)\n",
       "        (k_proj): Linear(in_features=256, out_features=128, bias=True)\n",
       "        (v_proj): Linear(in_features=256, out_features=128, bias=True)\n",
       "        (out_proj): Linear(in_features=128, out_features=256, bias=True)\n",
       "      )\n",
       "      (norm_final_attn): LayerNorm((256,), eps=1e-05, elementwise_affine=True)\n",
       "    )\n",
       "    (iou_token): Embedding(1, 256)\n",
       "    (mask_tokens): Embedding(4, 256)\n",
       "    (output_upscaling): Sequential(\n",
       "      (0): ConvTranspose2d(256, 64, kernel_size=(2, 2), stride=(2, 2))\n",
       "      (1): LayerNorm2d()\n",
       "      (2): GELU(approximate='none')\n",
       "      (3): ConvTranspose2d(64, 32, kernel_size=(2, 2), stride=(2, 2))\n",
       "      (4): GELU(approximate='none')\n",
       "    )\n",
       "    (output_hypernetworks_mlps): ModuleList(\n",
       "      (0-3): 4 x MLP(\n",
       "        (layers): ModuleList(\n",
       "          (0-1): 2 x Linear(in_features=256, out_features=256, bias=True)\n",
       "          (2): Linear(in_features=256, out_features=32, bias=True)\n",
       "        )\n",
       "      )\n",
       "    )\n",
       "    (iou_prediction_head): MLP(\n",
       "      (layers): ModuleList(\n",
       "        (0-1): 2 x Linear(in_features=256, out_features=256, bias=True)\n",
       "        (2): Linear(in_features=256, out_features=4, bias=True)\n",
       "      )\n",
       "    )\n",
       "  )\n",
       ")"
      ]
     },
     "execution_count": 26,
     "metadata": {},
     "output_type": "execute_result"
    }
   ],
   "source": [
    "from segment_anything import build_sam_vit_b\n",
    "from segment_anything import sam_model_registry\n",
    "medsam_model = sam_model_registry[\"vit_b\"](\n",
    "    checkpoint=\"/h/pwilson/projects/medAI/projects/sam/logs/finetune_medsam/2023-11-06-17:41:34-benevolent-turaco/checkpoints/medsam-finetuned_nct_epoch=0_dice=0.88.pth\"\n",
    ")\n",
    "medsam_model.eval()\n",
    "medsam_model.cuda()"
   ]
  },
  {
   "cell_type": "code",
   "execution_count": 27,
   "metadata": {},
   "outputs": [
    {
     "name": "stderr",
     "output_type": "stream",
     "text": [
      "  0%|                                                                                                                                      | 0/84 [00:00<?, ?it/s]"
     ]
    },
    {
     "name": "stderr",
     "output_type": "stream",
     "text": [
      " 24%|█████████████████████████████▊                                                                                               | 20/84 [00:21<01:10,  1.10s/it]\n"
     ]
    },
    {
     "ename": "KeyboardInterrupt",
     "evalue": "",
     "output_type": "error",
     "traceback": [
      "\u001b[0;31m---------------------------------------------------------------------------\u001b[0m",
      "\u001b[0;31mKeyboardInterrupt\u001b[0m                         Traceback (most recent call last)",
      "\u001b[1;32m/h/pwilson/projects/medAI/projects/sam/2023-11-06_medsam_feature_analysis.ipynb Cell 3\u001b[0m line \u001b[0;36m4\n\u001b[1;32m     <a href='vscode-notebook-cell://ssh-remote%2Bv.vectorinstitute.ai/h/pwilson/projects/medAI/projects/sam/2023-11-06_medsam_feature_analysis.ipynb#W6sdnNjb2RlLXJlbW90ZQ%3D%3D?line=40'>41</a>\u001b[0m     patch_labels \u001b[39m=\u001b[39m torch\u001b[39m.\u001b[39mcat(patch_labels, \u001b[39m0\u001b[39m)\n\u001b[1;32m     <a href='vscode-notebook-cell://ssh-remote%2Bv.vectorinstitute.ai/h/pwilson/projects/medAI/projects/sam/2023-11-06_medsam_feature_analysis.ipynb#W6sdnNjb2RlLXJlbW90ZQ%3D%3D?line=42'>43</a>\u001b[0m     \u001b[39mreturn\u001b[39;00m core_idx, patch_feats, patch_labels\n\u001b[0;32m---> <a href='vscode-notebook-cell://ssh-remote%2Bv.vectorinstitute.ai/h/pwilson/projects/medAI/projects/sam/2023-11-06_medsam_feature_analysis.ipynb#W6sdnNjb2RlLXJlbW90ZQ%3D%3D?line=44'>45</a>\u001b[0m train_core_idx, train_patch_feats, train_patch_labels \u001b[39m=\u001b[39m collect_features(train_ds)\n\u001b[1;32m     <a href='vscode-notebook-cell://ssh-remote%2Bv.vectorinstitute.ai/h/pwilson/projects/medAI/projects/sam/2023-11-06_medsam_feature_analysis.ipynb#W6sdnNjb2RlLXJlbW90ZQ%3D%3D?line=45'>46</a>\u001b[0m test_core_idx, test_patch_feats, test_patch_labels \u001b[39m=\u001b[39m collect_features(test_ds)\n",
      "\u001b[1;32m/h/pwilson/projects/medAI/projects/sam/2023-11-06_medsam_feature_analysis.ipynb Cell 3\u001b[0m line \u001b[0;36m1\n\u001b[1;32m     <a href='vscode-notebook-cell://ssh-remote%2Bv.vectorinstitute.ai/h/pwilson/projects/medAI/projects/sam/2023-11-06_medsam_feature_analysis.ipynb#W6sdnNjb2RlLXJlbW90ZQ%3D%3D?line=10'>11</a>\u001b[0m \u001b[39mfor\u001b[39;00m i, batch \u001b[39min\u001b[39;00m \u001b[39menumerate\u001b[39m(tqdm(DataLoader(dataset, batch_size\u001b[39m=\u001b[39m\u001b[39m8\u001b[39m, num_workers\u001b[39m=\u001b[39m\u001b[39m4\u001b[39m))):\n\u001b[1;32m     <a href='vscode-notebook-cell://ssh-remote%2Bv.vectorinstitute.ai/h/pwilson/projects/medAI/projects/sam/2023-11-06_medsam_feature_analysis.ipynb#W6sdnNjb2RlLXJlbW90ZQ%3D%3D?line=11'>12</a>\u001b[0m     bmode, needle_mask, grade \u001b[39m=\u001b[39m batch\n\u001b[0;32m---> <a href='vscode-notebook-cell://ssh-remote%2Bv.vectorinstitute.ai/h/pwilson/projects/medAI/projects/sam/2023-11-06_medsam_feature_analysis.ipynb#W6sdnNjb2RlLXJlbW90ZQ%3D%3D?line=12'>13</a>\u001b[0m     bmode \u001b[39m=\u001b[39m bmode\u001b[39m.\u001b[39;49mcuda()\n\u001b[1;32m     <a href='vscode-notebook-cell://ssh-remote%2Bv.vectorinstitute.ai/h/pwilson/projects/medAI/projects/sam/2023-11-06_medsam_feature_analysis.ipynb#W6sdnNjb2RlLXJlbW90ZQ%3D%3D?line=13'>14</a>\u001b[0m     needle_mask \u001b[39m=\u001b[39m needle_mask\u001b[39m.\u001b[39mcuda()\n\u001b[1;32m     <a href='vscode-notebook-cell://ssh-remote%2Bv.vectorinstitute.ai/h/pwilson/projects/medAI/projects/sam/2023-11-06_medsam_feature_analysis.ipynb#W6sdnNjb2RlLXJlbW90ZQ%3D%3D?line=14'>15</a>\u001b[0m     needle_mask \u001b[39m=\u001b[39m (needle_mask\u001b[39m.\u001b[39munfold(\u001b[39m-\u001b[39m\u001b[39m2\u001b[39m, \u001b[39m16\u001b[39m, \u001b[39m16\u001b[39m)\u001b[39m.\u001b[39munfold(\u001b[39m-\u001b[39m\u001b[39m2\u001b[39m, \u001b[39m16\u001b[39m, \u001b[39m16\u001b[39m)\u001b[39m.\u001b[39mmean((\u001b[39m-\u001b[39m\u001b[39m1\u001b[39m, \u001b[39m-\u001b[39m\u001b[39m2\u001b[39m)) \u001b[39m>\u001b[39m \u001b[39m0.5\u001b[39m)\n",
      "\u001b[0;31mKeyboardInterrupt\u001b[0m: "
     ]
    }
   ],
   "source": [
    "from torch.utils.data import DataLoader\n",
    "from einops import rearrange, repeat\n",
    "from tqdm import tqdm\n",
    "\n",
    "def collect_features(dataset):\n",
    "\n",
    "    core_idx = []\n",
    "    patch_feats = []\n",
    "    patch_labels = [] \n",
    "\n",
    "    for i, batch in enumerate(tqdm(DataLoader(dataset, batch_size=8, num_workers=4))):\n",
    "        bmode, needle_mask, grade = batch\n",
    "        bmode = bmode.cuda()\n",
    "        needle_mask = needle_mask.cuda()\n",
    "        needle_mask = (needle_mask.unfold(-2, 16, 16).unfold(-2, 16, 16).mean((-1, -2)) > 0.5)\n",
    "        needle_mask = needle_mask[:, 0, ...]\n",
    "\n",
    "        grade = grade.cuda()\n",
    "        \n",
    "        with torch.no_grad():\n",
    "            features = medsam_model.image_encoder(bmode)\n",
    "\n",
    "        B, C, H, W = features.shape \n",
    "\n",
    "        batch_idx = torch.arange(B).cuda()[..., None, None].repeat([1, H, W]) + i * 4\n",
    "        labels = grade[..., None, None].repeat([1, H, W])\n",
    "        features = rearrange(features, 'b c h w -> (b h w) c')\n",
    "        labels = rearrange(labels, 'b h w -> (b h w)')\n",
    "        needle_mask = rearrange(needle_mask, 'b h w -> (b h w)')\n",
    "        batch_idx = rearrange(batch_idx, 'b h w -> (b h w)')\n",
    "        features = features[needle_mask] # N x C\n",
    "        batch_idx = batch_idx[needle_mask] # N \n",
    "        labels = labels[needle_mask] # N\n",
    "\n",
    "        core_idx.append(batch_idx.detach().cpu())\n",
    "        patch_feats.append(features.detach().cpu())\n",
    "        patch_labels.append(labels.detach().cpu())\n",
    "        \n",
    "    core_idx = torch.cat(core_idx, 0)\n",
    "    patch_feats = torch.cat(patch_feats, 0)\n",
    "    patch_labels = torch.cat(patch_labels, 0)\n",
    "\n",
    "    return core_idx, patch_feats, patch_labels\n",
    "\n",
    "train_core_idx, train_patch_feats, train_patch_labels = collect_features(train_ds)\n",
    "test_core_idx, test_patch_feats, test_patch_labels = collect_features(test_ds)"
   ]
  },
  {
   "cell_type": "code",
   "execution_count": null,
   "metadata": {},
   "outputs": [
    {
     "name": "stdout",
     "output_type": "stream",
     "text": [
      "train 0.6313703056017219\n",
      "test 0.550567347114647\n",
      "test core 0.603566958698373\n"
     ]
    }
   ],
   "source": [
    "from sklearn.linear_model import LogisticRegression\n",
    "X_train = train_patch_feats\n",
    "y_train = train_patch_labels\n",
    "\n",
    "clf = LogisticRegression(random_state=0, max_iter=10000).fit(X_train, y_train)\n",
    "\n",
    "import numpy as np\n",
    "\n",
    "y_hat_train = clf.predict_proba(X_train)\n",
    "X_test = test_patch_feats\n",
    "y_test = test_patch_labels\n",
    "y_hat_test = clf.predict_proba(X_test)\n",
    "\n",
    "from sklearn.metrics import roc_auc_score\n",
    "print('train',  roc_auc_score(y_train, y_hat_train[:, 1]))\n",
    "print('test',  roc_auc_score(y_test, y_hat_test[:, 1]))\n",
    "\n",
    "y_test_core = [] \n",
    "y_hat_test_core = []\n",
    "for i in test_core_idx.unique(): \n",
    "    y_test_core.append(y_test[test_core_idx == i][0])\n",
    "    y_hat_test_core.append(y_hat_test[test_core_idx == i].mean(0))\n",
    "y_test_core = np.stack(y_test_core)\n",
    "y_hat_test_core = np.stack(y_hat_test_core)\n",
    "\n",
    "print('test core',  roc_auc_score(y_test_core, y_hat_test_core[:, 1]))\n"
   ]
  },
  {
   "cell_type": "code",
   "execution_count": null,
   "metadata": {},
   "outputs": [],
   "source": [
    "window_size = 5 * 1024 / (28), 5 * 1024 / (46.06)\n",
    "window_size = (int(window_size[0]), int(window_size[1]))"
   ]
  },
  {
   "cell_type": "code",
   "execution_count": null,
   "metadata": {},
   "outputs": [
    {
     "name": "stdout",
     "output_type": "stream",
     "text": [
      "0.7226527640787187\n",
      "0.5309762202753442\n"
     ]
    }
   ],
   "source": [
    "X_core = []\n",
    "y_core = []\n",
    "for i in train_core_idx.unique():\n",
    "    X_core.append(X_train[train_core_idx == i].max(0)[0])\n",
    "    y_core.append(y_train[train_core_idx == i][0])\n",
    "X_core = torch.stack(X_core, 0)\n",
    "y_core = torch.stack(y_core, 0)\n",
    "\n",
    "X_core_test = []\n",
    "y_core_test = []\n",
    "for i in test_core_idx.unique():\n",
    "    X_core_test.append(test_patch_feats[test_core_idx == i].max(0)[0])\n",
    "    y_core_test.append(test_patch_labels[test_core_idx == i][0])\n",
    "X_core_test = torch.stack(X_core_test, 0)\n",
    "y_core_test = torch.stack(y_core_test, 0)\n",
    "\n",
    "clf = LogisticRegression(random_state=0, max_iter=10000).fit(X_core, y_core)\n",
    "\n",
    "print(roc_auc_score(y_core, clf.predict_proba(X_core)[:, 1]))\n",
    "print(roc_auc_score(y_core_test, clf.predict_proba(X_core_test)[:, 1]))\n"
   ]
  },
  {
   "cell_type": "code",
   "execution_count": null,
   "metadata": {},
   "outputs": [
    {
     "name": "stdout",
     "output_type": "stream",
     "text": [
      "[t-SNE] Computing 91 nearest neighbors...\n",
      "[t-SNE] Indexed 2090 samples in 0.001s...\n",
      "[t-SNE] Computed neighbors for 2090 samples in 0.707s...\n",
      "[t-SNE] Computed conditional probabilities for sample 1000 / 2090\n",
      "[t-SNE] Computed conditional probabilities for sample 2000 / 2090\n",
      "[t-SNE] Computed conditional probabilities for sample 2090 / 2090\n",
      "[t-SNE] Mean sigma: 0.178943\n",
      "[t-SNE] KL divergence after 250 iterations with early exaggeration: 76.020805\n",
      "[t-SNE] KL divergence after 1000 iterations: 1.842259\n"
     ]
    }
   ],
   "source": [
    "from sklearn.manifold import TSNE\n",
    "tsne = TSNE(n_components=2, verbose=1)\n",
    "proj_train = tsne.fit_transform(X_core)"
   ]
  },
  {
   "cell_type": "code",
   "execution_count": null,
   "metadata": {},
   "outputs": [
    {
     "data": {
      "text/plain": [
       "<Axes: >"
      ]
     },
     "execution_count": 24,
     "metadata": {},
     "output_type": "execute_result"
    },
    {
     "data": {
      "image/png": "[encoded data removed]",
      "text/plain": [
       "<Figure size 640x480 with 1 Axes>"
      ]
     },
     "metadata": {},
     "output_type": "display_data"
    }
   ],
   "source": [
    "train_ds.core_info.pct_cancer.hist()"
   ]
  },
  {
   "cell_type": "code",
   "execution_count": null,
   "metadata": {},
   "outputs": [],
   "source": []
  },
  {
   "cell_type": "code",
   "execution_count": null,
   "metadata": {},
   "outputs": [],
   "source": [
    "from sklearn.decomposition import PCA\n",
    "from sklearn.manifold import TSNE\n",
    "TSNE(n_components=2, verbose=1).fit_transform(patch_feats)"
   ]
  },
  {
   "cell_type": "code",
   "execution_count": 14,
   "metadata": {},
   "outputs": [
    {
     "data": {
      "text/plain": [
       "torch.Size([248640, 256])"
      ]
     },
     "execution_count": 14,
     "metadata": {},
     "output_type": "execute_result"
    }
   ],
   "source": [
    "train_patch_feats.shape"
   ]
  },
  {
   "cell_type": "code",
   "execution_count": 77,
   "metadata": {},
   "outputs": [
    {
     "data": {
      "text/plain": [
       "torch.Size([248640])"
      ]
     },
     "execution_count": 77,
     "metadata": {},
     "output_type": "execute_result"
    }
   ],
   "source": [
    "patch_feats.shape\n",
    "patch_labels.shape\n",
    "core_idx.shape"
   ]
  },
  {
   "cell_type": "code",
   "execution_count": 81,
   "metadata": {},
   "outputs": [],
   "source": [
    "from sklearn.decomposition import PCA\n",
    "from sklearn.manifold import TSNE\n",
    "TSNE(n_components=2, verbose=1).fit_transform(patch_feats)"
   ]
  },
  {
   "cell_type": "code",
   "execution_count": 65,
   "metadata": {},
   "outputs": [
    {
     "data": {
      "text/plain": [
       "tensor([0, 0, 0,  ..., 3, 3, 3], device='cuda:0')"
      ]
     },
     "execution_count": 65,
     "metadata": {},
     "output_type": "execute_result"
    }
   ],
   "source": [
    "batch_idx"
   ]
  },
  {
   "cell_type": "code",
   "execution_count": null,
   "metadata": {},
   "outputs": [
    {
     "data": {
      "text/plain": [
       "torch.Size([1, 1])"
      ]
     },
     "execution_count": 46,
     "metadata": {},
     "output_type": "execute_result"
    }
   ],
   "source": [
    "grade.shape"
   ]
  },
  {
   "cell_type": "code",
   "execution_count": 42,
   "metadata": {},
   "outputs": [
    {
     "name": "stdout",
     "output_type": "stream",
     "text": [
      "tensor(296, device='cuda:0')\n"
     ]
    },
    {
     "data": {
      "text/plain": [
       "<matplotlib.image.AxesImage at 0x7ff72082a710>"
      ]
     },
     "execution_count": 42,
     "metadata": {},
     "output_type": "execute_result"
    },
    {
     "data": {
      "image/png": "[encoded data removed]",
      "text/plain": [
       "<Figure size 640x480 with 1 Axes>"
      ]
     },
     "metadata": {},
     "output_type": "display_data"
    }
   ],
   "source": [
    "needle_mask = (needle_mask.unfold(-2, 16, 16).unfold(-2, 16, 16).mean((-1, -2)) > 0.5)\n",
    "print(needle_mask.sum())\n",
    "plt.imshow(needle_mask.cpu()[0,0])"
   ]
  },
  {
   "cell_type": "code",
   "execution_count": 44,
   "metadata": {},
   "outputs": [
    {
     "data": {
      "text/plain": [
       "1.536"
      ]
     },
     "execution_count": 44,
     "metadata": {},
     "output_type": "execute_result"
    }
   ],
   "source": [
    "256 * 6000 / 1e6"
   ]
  },
  {
   "cell_type": "code",
   "execution_count": 15,
   "metadata": {},
   "outputs": [
    {
     "ename": "TypeError",
     "evalue": "tuple indices must be integers or slices, not tuple",
     "output_type": "error",
     "traceback": [
      "\u001b[0;31m---------------------------------------------------------------------------\u001b[0m",
      "\u001b[0;31mTypeError\u001b[0m                                 Traceback (most recent call last)",
      "\u001b[1;32m/h/pwilson/projects/medAI/projects/sam/2023-11-06_medsam_feature_analysis.ipynb Cell 8\u001b[0m line \u001b[0;36m1\n\u001b[0;32m----> <a href='vscode-notebook-cell://ssh-remote%2Bv.vectorinstitute.ai/h/pwilson/projects/medAI/projects/sam/2023-11-06_medsam_feature_analysis.ipynb#X14sdnNjb2RlLXJlbW90ZQ%3D%3D?line=0'>1</a>\u001b[0m needle_mask[\u001b[39m0\u001b[39;49m,\u001b[39m0\u001b[39;49m]\n",
      "\u001b[0;31mTypeError\u001b[0m: tuple indices must be integers or slices, not tuple"
     ]
    }
   ],
   "source": [
    "needle_mask[0,0]"
   ]
  },
  {
   "cell_type": "code",
   "execution_count": 37,
   "metadata": {},
   "outputs": [
    {
     "data": {
      "text/plain": [
       "6.291456"
      ]
     },
     "execution_count": 37,
     "metadata": {},
     "output_type": "execute_result"
    }
   ],
   "source": [
    "256 * 64 * 64 * 6000 / 1e9"
   ]
  },
  {
   "cell_type": "code",
   "execution_count": 35,
   "metadata": {},
   "outputs": [
    {
     "data": {
      "text/plain": [
       "torch.Size([1, 256, 64, 64])"
      ]
     },
     "execution_count": 35,
     "metadata": {},
     "output_type": "execute_result"
    }
   ],
   "source": [
    "features.shape"
   ]
  },
  {
   "cell_type": "code",
   "execution_count": null,
   "metadata": {},
   "outputs": [],
   "source": [
    "from torch.utils.data import DataLoader\n",
    "for batch in DataLoader(train_ds, batch_size=1):\n",
    "    bmode, needle_mask, grade = batch\n",
    "    bmode = bmode.cuda()\n",
    "    needle_mask = needle_mask.cuda()\n",
    "    grade = grade.cuda()\n",
    "    with torch.no_grad():\n",
    "        pred = medsam_model(bmode)\n",
    "    break\n",
    "\n"
   ]
  },
  {
   "cell_type": "code",
   "execution_count": 14,
   "metadata": {},
   "outputs": [
    {
     "data": {
      "text/plain": [
       "torch.Size([1])"
      ]
     },
     "execution_count": 14,
     "metadata": {},
     "output_type": "execute_result"
    }
   ],
   "source": [
    "train_ds[0][2].shape"
   ]
  },
  {
   "cell_type": "code",
   "execution_count": null,
   "metadata": {},
   "outputs": [],
   "source": []
  }
 ],
 "metadata": {
  "kernelspec": {
   "display_name": "Python 3 (ipykernel)",
   "language": "python",
   "name": "python3"
  },
  "language_info": {
   "codemirror_mode": {
    "name": "ipython",
    "version": 3
   },
   "file_extension": ".py",
   "mimetype": "text/x-python",
   "name": "python",
   "nbconvert_exporter": "python",
   "pygments_lexer": "ipython3",
   "version": "3.11.5"
  }
 },
 "nbformat": 4,
 "nbformat_minor": 2
}
